{
 "cells": [
  {
   "cell_type": "markdown",
   "metadata": {},
   "source": [
    "# CSCI 4253 / 5253 - Lab #4 - Patent Problem with Spark RDD - SOLUTION\n",
    "<div>\n",
    " <h2> CSCI 4283 / 5253 \n",
    "  <IMG SRC=\"https://www.colorado.edu/cs/profiles/express/themes/cuspirit/logo.png\" WIDTH=50 ALIGN=\"right\"/> </h2>\n",
    "</div>"
   ]
  },
  {
   "cell_type": "markdown",
   "metadata": {},
   "source": [
    "This [Spark cheatsheet](https://s3.amazonaws.com/assets.datacamp.com/blog_assets/PySpark_SQL_Cheat_Sheet_Python.pdf) is useful"
   ]
  },
  {
   "cell_type": "code",
   "execution_count": 2,
   "metadata": {},
   "outputs": [],
   "source": [
    "from pyspark import SparkContext, SparkConf\n",
    "import numpy as np\n",
    "import operator"
   ]
  },
  {
   "cell_type": "code",
   "execution_count": 3,
   "metadata": {},
   "outputs": [],
   "source": [
    "conf=SparkConf().setAppName(\"Lab4-rdd\").setMaster(\"local[*]\")\n",
    "sc = SparkContext(conf=conf)"
   ]
  },
  {
   "cell_type": "markdown",
   "metadata": {},
   "source": [
    "Using PySpark and RDD's on the https://coding.csel.io machines is slow -- most of the code is executed in Python and this is much less efficient than the java-based code using the PySpark dataframes. Be patient and trying using `.cache()` to cache the output of joins. You may want to start with a reduced set of data before running the full task. You can use the `sample()` method to extract just a sample of the data or use "
   ]
  },
  {
   "cell_type": "markdown",
   "metadata": {},
   "source": [
    "These two RDD's are called \"rawCitations\" and \"rawPatents\" because you probably want to process them futher (e.g. convert them to integer types, etc). \n",
    "\n",
    "The `textFile` function returns data in strings. This should work fine for this lab.\n",
    "\n",
    "Other methods you use might return data in type `Byte`. If you haven't used Python `Byte` types before, google it. You can convert a value of `x` type byte into e.g. a UTF8 string using `x.decode('uft-8')`. Alternatively, you can use the `open` method of the gzip library to read in all the lines as UTF-8 strings like this:\n",
    "```\n",
    "import gzip\n",
    "with gzip.open('cite75_99.txt.gz', 'rt',encoding='utf-8') as f:\n",
    "    rddCitations = sc.parallelize( f.readlines() )\n",
    "```\n",
    "This is less efficient than using `textFile` because `textFile` would use the underlying HDFS or other file system to read the file across all the worker nodes while the using `gzip.open()...readlines()` will read all the data in the frontend and then distribute it to all the worker nodes."
   ]
  },
  {
   "cell_type": "code",
   "execution_count": 4,
   "metadata": {},
   "outputs": [],
   "source": [
    "rddCitations = sc.textFile(\"cite75_99.txt.gz\")\n",
    "rddPatents = sc.textFile(\"apat63_99.txt.gz\")"
   ]
  },
  {
   "cell_type": "markdown",
   "metadata": {},
   "source": [
    "The data looks like the following."
   ]
  },
  {
   "cell_type": "code",
   "execution_count": 5,
   "metadata": {},
   "outputs": [
    {
     "data": {
      "text/plain": [
       "['\"CITING\",\"CITED\"',\n",
       " '3858241,956203',\n",
       " '3858241,1324234',\n",
       " '3858241,3398406',\n",
       " '3858241,3557384']"
      ]
     },
     "execution_count": 5,
     "metadata": {},
     "output_type": "execute_result"
    }
   ],
   "source": [
    "rddCitations.take(5)"
   ]
  },
  {
   "cell_type": "code",
   "execution_count": 6,
   "metadata": {},
   "outputs": [
    {
     "data": {
      "text/plain": [
       "['\"PATENT\",\"GYEAR\",\"GDATE\",\"APPYEAR\",\"COUNTRY\",\"POSTATE\",\"ASSIGNEE\",\"ASSCODE\",\"CLAIMS\",\"NCLASS\",\"CAT\",\"SUBCAT\",\"CMADE\",\"CRECEIVE\",\"RATIOCIT\",\"GENERAL\",\"ORIGINAL\",\"FWDAPLAG\",\"BCKGTLAG\",\"SELFCTUB\",\"SELFCTLB\",\"SECDUPBD\",\"SECDLWBD\"',\n",
       " '3070801,1963,1096,,\"BE\",\"\",,1,,269,6,69,,1,,0,,,,,,,',\n",
       " '3070802,1963,1096,,\"US\",\"TX\",,1,,2,6,63,,0,,,,,,,,,',\n",
       " '3070803,1963,1096,,\"US\",\"IL\",,1,,2,6,63,,9,,0.3704,,,,,,,',\n",
       " '3070804,1963,1096,,\"US\",\"OH\",,1,,2,6,63,,3,,0.6667,,,,,,,']"
      ]
     },
     "execution_count": 6,
     "metadata": {},
     "output_type": "execute_result"
    }
   ],
   "source": [
    "rddPatents.take(5)"
   ]
  },
  {
   "cell_type": "markdown",
   "metadata": {},
   "source": [
    "In other words, they are a single string with multiple CSV's. You will need to convert these to (K,V) pairs, probably convert the keys to `int` and so on. You'll need to `filter` out the header string as well since there's no easy way to extract all the lines except the first."
   ]
  },
  {
   "cell_type": "code",
   "execution_count": 7,
   "metadata": {},
   "outputs": [],
   "source": [
    "# First, we will need to extract the data out of the Patent and Citation rdd's by splitting on the commas (,).\n",
    "\n",
    "def patentSplit(line):\n",
    "    line = line.split(',')\n",
    "    return (line[0], line[5])\n",
    "\n",
    "def citationSplit(line):  \n",
    "    line = line.split(',')\n",
    "    return (line[0], line[1].split('\\n')[0])\n",
    "\n",
    "patentData = rddPatents.map(patentSplit)\n",
    "citationData = rddCitations.map(citationSplit)"
   ]
  },
  {
   "cell_type": "code",
   "execution_count": 8,
   "metadata": {},
   "outputs": [
    {
     "data": {
      "text/plain": [
       "[('\"PATENT\"', '\"POSTATE\"'),\n",
       " ('3070801', '\"\"'),\n",
       " ('3070802', '\"TX\"'),\n",
       " ('3070803', '\"IL\"'),\n",
       " ('3070804', '\"OH\"')]"
      ]
     },
     "execution_count": 8,
     "metadata": {},
     "output_type": "execute_result"
    }
   ],
   "source": [
    "patentData.take(5)"
   ]
  },
  {
   "cell_type": "code",
   "execution_count": 9,
   "metadata": {},
   "outputs": [
    {
     "data": {
      "text/plain": [
       "[('\"CITING\"', '\"CITED\"'),\n",
       " ('3858241', '956203'),\n",
       " ('3858241', '1324234'),\n",
       " ('3858241', '3398406'),\n",
       " ('3858241', '3557384')]"
      ]
     },
     "execution_count": 9,
     "metadata": {},
     "output_type": "execute_result"
    }
   ],
   "source": [
    "citationData.take(5)"
   ]
  },
  {
   "cell_type": "code",
   "execution_count": 10,
   "metadata": {},
   "outputs": [
    {
     "data": {
      "text/plain": [
       "[('3860575', ('3109843', '\"\"')),\n",
       " ('3973741', ('533868', '\"CA\"')),\n",
       " ('3973741', ('2848778', '\"CA\"')),\n",
       " ('3973741', ('3026059', '\"CA\"')),\n",
       " ('3973741', ('3506213', '\"CA\"'))]"
      ]
     },
     "execution_count": 10,
     "metadata": {},
     "output_type": "execute_result"
    }
   ],
   "source": [
    "# Then, we need to join the patentData and citationData to get each Citing State.\n",
    "\n",
    "firstStep = citationData.join(patentData).cache()\n",
    "firstStep.take(5)"
   ]
  },
  {
   "cell_type": "code",
   "execution_count": 11,
   "metadata": {},
   "outputs": [],
   "source": [
    "# Now, we exchange Citing and Cited as key, \n",
    "# then join again to get each Cited State, \n",
    "# and swap back to the original order with Citing as the key.\n",
    "\n",
    "def swapData(x):\n",
    "    citing, (cited, citing_state) = x\n",
    "    return (cited, (citing, citing_state))\n",
    "\n",
    "def dataSwap(x):\n",
    "    cited, ((citing, citing_state), cited_state) = x\n",
    "    return (citing, (citing_state, cited, cited_state))\n",
    "\n",
    "dataState = firstStep.map(swapData)\n",
    "tempStep = dataState.join(patentData).cache()\n",
    "stateData = tempStep.map(dataSwap)"
   ]
  },
  {
   "cell_type": "code",
   "execution_count": 12,
   "metadata": {},
   "outputs": [
    {
     "data": {
      "text/plain": [
       "[('3109843', ('3860575', '\"\"')),\n",
       " ('533868', ('3973741', '\"CA\"')),\n",
       " ('2848778', ('3973741', '\"CA\"')),\n",
       " ('3026059', ('3973741', '\"CA\"')),\n",
       " ('3506213', ('3973741', '\"CA\"'))]"
      ]
     },
     "execution_count": 12,
     "metadata": {},
     "output_type": "execute_result"
    }
   ],
   "source": [
    "dataState.take(5)"
   ]
  },
  {
   "cell_type": "code",
   "execution_count": 13,
   "metadata": {},
   "outputs": [
    {
     "data": {
      "text/plain": [
       "[('4994411', (('5377077', '\"TX\"'), '\"\"')),\n",
       " ('4994411', (('5352632', '\"\"'), '\"\"')),\n",
       " ('4994411', (('5984699', '\"\"'), '\"\"')),\n",
       " ('4994411', (('5789803', '\"ID\"'), '\"\"')),\n",
       " ('4994411', (('5550711', '\"TX\"'), '\"\"'))]"
      ]
     },
     "execution_count": 13,
     "metadata": {},
     "output_type": "execute_result"
    }
   ],
   "source": [
    "tempStep.take(5)"
   ]
  },
  {
   "cell_type": "code",
   "execution_count": 14,
   "metadata": {},
   "outputs": [
    {
     "data": {
      "text/plain": [
       "[('5377077', ('\"TX\"', '4994411', '\"\"')),\n",
       " ('5352632', ('\"\"', '4994411', '\"\"')),\n",
       " ('5984699', ('\"\"', '4994411', '\"\"')),\n",
       " ('5789803', ('\"ID\"', '4994411', '\"\"')),\n",
       " ('5550711', ('\"TX\"', '4994411', '\"\"'))]"
      ]
     },
     "execution_count": 14,
     "metadata": {},
     "output_type": "execute_result"
    }
   ],
   "source": [
    "stateData.take(5)"
   ]
  },
  {
   "cell_type": "code",
   "execution_count": 15,
   "metadata": {},
   "outputs": [
    {
     "data": {
      "text/plain": [
       "[('5959466', 125),\n",
       " ('5983822', 103),\n",
       " ('6008204', 100),\n",
       " ('5952345', 98),\n",
       " ('5998655', 96),\n",
       " ('5958954', 96),\n",
       " ('5936426', 94),\n",
       " ('5978329', 90),\n",
       " ('5739256', 90),\n",
       " ('5913855', 90)]"
      ]
     },
     "execution_count": 15,
     "metadata": {},
     "output_type": "execute_result"
    }
   ],
   "source": [
    "# Since now we have the desired info in the need order, we will filter empty values (\"\"),\n",
    "# filter entries with no matching state,\n",
    "# then introduce a counter for each key to count the occurences for same-state citations count.\n",
    "\n",
    "def filters(x):\n",
    "    citing, (citing_state, cited, cited_state) = x\n",
    "    return True if (citing_state != '\"\"' and cited_state != '\"\"' and (citing_state == cited_state)) else False\n",
    "\n",
    "def counter(x):\n",
    "    citing, (citing_state, cited, cited_state) = x\n",
    "    return (citing, 1)\n",
    "\n",
    "citingCount = stateData.filter(filters)\n",
    "Citing_Count = citingCount.map(counter).reduceByKey(lambda acc, val: acc + val)\n",
    "citingData = Citing_Count.sortBy(lambda x: x[1], ascending = False)\n",
    "\n",
    "citingData.take(10)"
   ]
  },
  {
   "cell_type": "code",
   "execution_count": 16,
   "metadata": {},
   "outputs": [
    {
     "data": {
      "text/plain": [
       "[('3071120', ('1963,1096,,\"US\",\"OH\",,2,,123,5,53,,0,,,,,,,,,', 0)),\n",
       " ('3071392', ('1963,1096,,\"US\",\"OH\",,1,,280,5,55,,0,,,,,,,,,', 0)),\n",
       " ('3071527', ('1963,1096,,\"US\",\"NY\",,6,,376,4,44,,3,,0,,,,,,,', 0)),\n",
       " ('3071546', ('1963,1096,,\"US\",\"OH\",,2,,508,5,59,,2,,0.5,,,,,,,', 0)),\n",
       " ('3071759', ('1963,1096,,\"US\",\"PA\",,2,,340,2,21,,0,,,,,,,,,', 0)),\n",
       " ('3072304', ('1963,1103,,\"PK\",\"\",,1,,222,1,19,,2,,0,,,,,,,', 0)),\n",
       " ('3072336', ('1963,1103,,\"CH\",\"\",,3,,236,6,69,,0,,,,,,,,,', 0)),\n",
       " ('3073391', ('1963,1110,,\"US\",\"LA\",,2,,166,6,64,,1,,0,,,,,,,', 0)),\n",
       " ('3073396', ('1963,1110,,\"US\",\"OH\",,2,,173,5,51,,1,,0,,,,,,,', 0)),\n",
       " ('3073463', ('1963,1110,,\"US\",\"MN\",,1,,414,5,51,,1,,0,,,,,,,', 0))]"
      ]
     },
     "execution_count": 16,
     "metadata": {},
     "output_type": "execute_result"
    }
   ],
   "source": [
    "# We now prepare for the final step by updating the original Patent data as a key-value pair,\n",
    "# with Patent number as key, and the whole line of data as the value,\n",
    "# and using an outer left-join, to ensure entries with 0 count are preserved. \n",
    "\n",
    "def patentKV(line):\n",
    "    line_split = line.split(',')\n",
    "    return (line_split[0], \",\".join(line_split[1: ]))\n",
    "\n",
    "def emptyData(x):\n",
    "    (key, (rest, count)) = x\n",
    "    if(count is None):\n",
    "        count = 0\n",
    "    return (key, (rest, count))\n",
    "\n",
    "keyValue = rddPatents.map(patentKV)\n",
    "tempStep = keyValue.leftOuterJoin(citingData).cache()\n",
    "finalData = tempStep.map(emptyData)\n",
    "\n",
    "finalData.take(10)"
   ]
  },
  {
   "cell_type": "code",
   "execution_count": 17,
   "metadata": {},
   "outputs": [
    {
     "data": {
      "text/plain": [
       "[('5959466',\n",
       "  ('1999,14515,1997,\"US\",\"CA\",5310,2,,326,4,46,159,0,1,,0.6186,,4.8868,0.0455,0.044,,',\n",
       "   125)),\n",
       " ('5983822',\n",
       "  ('1999,14564,1998,\"US\",\"TX\",569900,2,,114,5,55,200,0,0.995,,0.7201,,12.45,0,0,,',\n",
       "   103)),\n",
       " ('6008204',\n",
       "  ('1999,14606,1998,\"US\",\"CA\",749584,2,,514,3,31,121,0,1,,0.7415,,5,0.0085,0.0083,,',\n",
       "   100)),\n",
       " ('5952345',\n",
       "  ('1999,14501,1997,\"US\",\"CA\",749584,2,,514,3,31,118,0,1,,0.7442,,5.1102,0,0,,',\n",
       "   98)),\n",
       " ('5958954',\n",
       "  ('1999,14515,1997,\"US\",\"CA\",749584,2,,514,3,31,116,0,1,,0.7397,,5.181,0,0,,',\n",
       "   96)),\n",
       " ('5998655',\n",
       "  ('1999,14585,1998,\"US\",\"CA\",,1,,560,1,14,114,0,1,,0.7387,,5.1667,,,,', 96)),\n",
       " ('5936426',\n",
       "  ('1999,14466,1997,\"US\",\"CA\",5310,2,,326,4,46,178,0,1,,0.58,,11.2303,0.0765,0.073,,',\n",
       "   94)),\n",
       " ('5913855',\n",
       "  ('1999,14417,1997,\"US\",\"CA\",733846,2,,606,3,32,242,0,1,,0.7403,,8.3595,0,0,,',\n",
       "   90)),\n",
       " ('5739256',\n",
       "  ('1998,13983,1995,\"US\",\"CA\",70060,2,15,528,1,15,453,0,1,,0.8232,,15.1104,0.1124,0.1082,,',\n",
       "   90)),\n",
       " ('5925042',\n",
       "  ('1999,14445,1997,\"US\",\"CA\",733846,2,,606,3,32,242,0,1,,0.7382,,8.3471,0,0,,',\n",
       "   90))]"
      ]
     },
     "execution_count": 17,
     "metadata": {},
     "output_type": "execute_result"
    }
   ],
   "source": [
    "# Finally, we sort finalData to get the final output, ordered by same-state citations count, and in descending order.\n",
    "\n",
    "def sortOrder(x):\n",
    "    (key, (rest, count)) = x\n",
    "    return count\n",
    "\n",
    "finalOutput = finalData.sortBy(lambda x: sortOrder(x), ascending = False)\n",
    "finalOutput.take(10)"
   ]
  }
 ],
 "metadata": {
  "kernelspec": {
   "display_name": "Python 3 (ipykernel)",
   "language": "python",
   "name": "python3"
  },
  "language_info": {
   "codemirror_mode": {
    "name": "ipython",
    "version": 3
   },
   "file_extension": ".py",
   "mimetype": "text/x-python",
   "name": "python",
   "nbconvert_exporter": "python",
   "pygments_lexer": "ipython3",
   "version": "3.10.5"
  }
 },
 "nbformat": 4,
 "nbformat_minor": 4
}
