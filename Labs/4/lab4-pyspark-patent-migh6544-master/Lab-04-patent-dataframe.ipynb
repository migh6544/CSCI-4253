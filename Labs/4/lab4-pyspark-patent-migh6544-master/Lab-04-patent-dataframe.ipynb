{
 "cells": [
  {
   "cell_type": "markdown",
   "metadata": {},
   "source": [
    "# CSCI 4253 / 5253 - Lab #4 - Patent Problem with Spark DataFrames\n",
    "<div>\n",
    " <h2> CSCI 4283 / 5253 \n",
    "  <IMG SRC=\"https://www.colorado.edu/cs/profiles/express/themes/cuspirit/logo.png\" WIDTH=50 ALIGN=\"right\"/> </h2>\n",
    "</div>"
   ]
  },
  {
   "cell_type": "markdown",
   "metadata": {},
   "source": [
    "This [Spark cheatsheet](https://s3.amazonaws.com/assets.datacamp.com/blog_assets/PySpark_SQL_Cheat_Sheet_Python.pdf) is useful as is [this reference on doing joins in Spark dataframe](http://www.learnbymarketing.com/1100/pyspark-joins-by-example/).\n",
    "\n",
    "The [DataBricks company has one of the better reference manuals for PySpark](https://docs.databricks.com/spark/latest/dataframes-datasets/index.html) -- they show you how to perform numerous common data operations such as joins, aggregation operations following `groupBy` and the like."
   ]
  },
  {
   "cell_type": "code",
   "execution_count": 1,
   "metadata": {},
   "outputs": [],
   "source": [
    "from pyspark import SparkContext, SparkConf\n",
    "from pyspark.sql import SparkSession"
   ]
  },
  {
   "cell_type": "markdown",
   "metadata": {},
   "source": [
    "The following aggregation functions may be useful -- [these can be used to aggregate results of `groupby` operations](https://docs.databricks.com/spark/latest/dataframes-datasets/introduction-to-dataframes-python.html#example-aggregations-using-agg-and-countdistinct). More documentation is at the [PySpark SQL Functions manual](https://spark.apache.org/docs/2.3.0/api/python/pyspark.sql.html#module-pyspark.sql.functions). Feel free to use other functions from that library."
   ]
  },
  {
   "cell_type": "code",
   "execution_count": 2,
   "metadata": {},
   "outputs": [],
   "source": [
    "from pyspark.sql.functions import col, count, countDistinct"
   ]
  },
  {
   "cell_type": "markdown",
   "metadata": {},
   "source": [
    "Create our session as described in the tutorials"
   ]
  },
  {
   "cell_type": "code",
   "execution_count": 3,
   "metadata": {},
   "outputs": [],
   "source": [
    "spark = SparkSession \\\n",
    "    .builder \\\n",
    "    .appName(\"Lab4-Dataframe\") \\\n",
    "    .master(\"local[*]\")\\\n",
    "    .getOrCreate()"
   ]
  },
  {
   "cell_type": "markdown",
   "metadata": {},
   "source": [
    "Read in the citations and patents data and check that the data makes sense. Note that unlike in the RDD solution, the data is automatically inferred to be Integer() types."
   ]
  },
  {
   "cell_type": "code",
   "execution_count": 4,
   "metadata": {},
   "outputs": [],
   "source": [
    "citations = spark.read.load('cite75_99.txt.gz',\n",
    "            format=\"csv\", sep=\",\", header=True,\n",
    "            compression=\"gzip\",\n",
    "            inferSchema=\"true\")"
   ]
  },
  {
   "cell_type": "code",
   "execution_count": 5,
   "metadata": {},
   "outputs": [
    {
     "name": "stdout",
     "output_type": "stream",
     "text": [
      "+-------+-------+\n",
      "| CITING|  CITED|\n",
      "+-------+-------+\n",
      "|3858241| 956203|\n",
      "|3858241|1324234|\n",
      "|3858241|3398406|\n",
      "|3858241|3557384|\n",
      "|3858241|3634889|\n",
      "+-------+-------+\n",
      "only showing top 5 rows\n",
      "\n"
     ]
    }
   ],
   "source": [
    "citations.show(5)"
   ]
  },
  {
   "cell_type": "code",
   "execution_count": 6,
   "metadata": {},
   "outputs": [],
   "source": [
    "patents = spark.read.load('apat63_99.txt.gz',\n",
    "            format=\"csv\", sep=\",\", header=True,\n",
    "            compression=\"gzip\",\n",
    "            inferSchema=\"true\")"
   ]
  },
  {
   "cell_type": "code",
   "execution_count": 7,
   "metadata": {},
   "outputs": [
    {
     "name": "stdout",
     "output_type": "stream",
     "text": [
      "+-------+-----+-----+-------+-------+-------+--------+-------+------+------+---+------+-----+--------+--------+-------+--------+--------+--------+--------+--------+--------+--------+\n",
      "| PATENT|GYEAR|GDATE|APPYEAR|COUNTRY|POSTATE|ASSIGNEE|ASSCODE|CLAIMS|NCLASS|CAT|SUBCAT|CMADE|CRECEIVE|RATIOCIT|GENERAL|ORIGINAL|FWDAPLAG|BCKGTLAG|SELFCTUB|SELFCTLB|SECDUPBD|SECDLWBD|\n",
      "+-------+-----+-----+-------+-------+-------+--------+-------+------+------+---+------+-----+--------+--------+-------+--------+--------+--------+--------+--------+--------+--------+\n",
      "|3070801| 1963| 1096|   null|     BE|   null|    null|      1|  null|   269|  6|    69| null|       1|    null|    0.0|    null|    null|    null|    null|    null|    null|    null|\n",
      "|3070802| 1963| 1096|   null|     US|     TX|    null|      1|  null|     2|  6|    63| null|       0|    null|   null|    null|    null|    null|    null|    null|    null|    null|\n",
      "|3070803| 1963| 1096|   null|     US|     IL|    null|      1|  null|     2|  6|    63| null|       9|    null| 0.3704|    null|    null|    null|    null|    null|    null|    null|\n",
      "|3070804| 1963| 1096|   null|     US|     OH|    null|      1|  null|     2|  6|    63| null|       3|    null| 0.6667|    null|    null|    null|    null|    null|    null|    null|\n",
      "|3070805| 1963| 1096|   null|     US|     CA|    null|      1|  null|     2|  6|    63| null|       1|    null|    0.0|    null|    null|    null|    null|    null|    null|    null|\n",
      "+-------+-----+-----+-------+-------+-------+--------+-------+------+------+---+------+-----+--------+--------+-------+--------+--------+--------+--------+--------+--------+--------+\n",
      "only showing top 5 rows\n",
      "\n"
     ]
    }
   ],
   "source": [
    "patents.show(5)"
   ]
  },
  {
   "cell_type": "code",
   "execution_count": 8,
   "metadata": {},
   "outputs": [
    {
     "name": "stdout",
     "output_type": "stream",
     "text": [
      "+-------+-------+------------+\n",
      "|  CITED| CITING|CITING_STATE|\n",
      "+-------+-------+------------+\n",
      "|1331793|3858258|          CA|\n",
      "|1540798|3858258|          CA|\n",
      "| 924225|3858527|        null|\n",
      "|2444326|3858527|        null|\n",
      "|2705120|3858527|        null|\n",
      "|2967080|3858527|        null|\n",
      "|3602157|3858527|        null|\n",
      "|3638586|3858527|        null|\n",
      "|3699902|3858527|        null|\n",
      "| 957631|3858560|          IN|\n",
      "|3675252|3858597|          MT|\n",
      "|3815160|3858597|          MT|\n",
      "|2290722|3858770|          CA|\n",
      "|2777621|3858770|          CA|\n",
      "|2782969|3858770|          CA|\n",
      "|3040941|3858770|          CA|\n",
      "| 982044|3859029|          NY|\n",
      "|1020004|3859029|          NY|\n",
      "|1830227|3859029|          NY|\n",
      "|2752631|3859029|          NY|\n",
      "+-------+-------+------------+\n",
      "only showing top 20 rows\n",
      "\n"
     ]
    }
   ],
   "source": [
    "# First, we will need to complete a left-join with Citation and Patent data on the Citing patent number.\n",
    "# Then, we select the Cited, Citing, and the citing state (POSTATE) columns from the Citing_State dataframe.\n",
    "\n",
    "Citing_State = citations.join(patents, citations[\"CITING\"] == patents[\"PATENT\"], how = \"left\").cache()\n",
    "Citing_State = Citing_State.select(\"CITED\", \"CITING\", col(\"POSTATE\").alias(\"CITING_STATE\"))\n",
    "\n",
    "Citing_State.show()"
   ]
  },
  {
   "cell_type": "code",
   "execution_count": 9,
   "metadata": {},
   "outputs": [
    {
     "name": "stdout",
     "output_type": "stream",
     "text": [
      "+-------+------------+-----+-----------+\n",
      "| CITING|CITING_STATE|CITED|CITED_STATE|\n",
      "+-------+------------+-----+-----------+\n",
      "|4305315|          MN| 2366|       null|\n",
      "|4192521|        null| 2366|       null|\n",
      "|4253355|          MN| 2366|       null|\n",
      "|5580635|          WI| 5156|       null|\n",
      "|4976561|        null| 5518|       null|\n",
      "|4480374|          MN| 5803|       null|\n",
      "|5123817|        null| 6620|       null|\n",
      "|4115020|        null| 7240|       null|\n",
      "|4727698|          CA| 7253|       null|\n",
      "|4360982|          IA| 7340|       null|\n",
      "|4108250|          IL| 7340|       null|\n",
      "|5692807|          PA|10817|       null|\n",
      "|5581904|        null|11458|       null|\n",
      "|4282613|          MI|12940|       null|\n",
      "|4741426|          NY|13840|       null|\n",
      "|4705153|          NY|13840|       null|\n",
      "|4556218|          FL|14832|       null|\n",
      "|4896714|        null|15447|       null|\n",
      "|5065652|          OH|15790|       null|\n",
      "|5058476|          OH|15790|       null|\n",
      "+-------+------------+-----+-----------+\n",
      "only showing top 20 rows\n",
      "\n"
     ]
    }
   ],
   "source": [
    "# Next we will left-join the Citing_State data and the Patent data on the Cited patent number.\n",
    "# Then, we select Citing, Citing_State, Cited, and the citing state (POSTATE) columns to form the tempStep dataframe\n",
    "\n",
    "tempStep = Citing_State.join(patents, Citing_State[\"CITED\"] == patents[\"PATENT\"], how = \"left\").cache()\n",
    "tempStep = tempStep.select(\"CITING\", \"CITING_STATE\", \"CITED\", col(\"POSTATE\").alias(\"CITED_STATE\"))\n",
    "\n",
    "tempStep.show()"
   ]
  },
  {
   "cell_type": "code",
   "execution_count": 10,
   "metadata": {},
   "outputs": [
    {
     "name": "stdout",
     "output_type": "stream",
     "text": [
      "+-------+------------+-------+-----------+\n",
      "| CITING|CITING_STATE|  CITED|CITED_STATE|\n",
      "+-------+------------+-------+-----------+\n",
      "|3861359|          IL|3072100|         IL|\n",
      "|3917094|          WI|3072274|         WI|\n",
      "|4051847|          CA|3077191|         CA|\n",
      "|4041217|          MD|3079454|         MD|\n",
      "|4385248|          NY|3079519|         NY|\n",
      "|4945561|          NY|3081464|         NY|\n",
      "|4884717|          MI|3086674|         MI|\n",
      "|4053105|          MA|3087676|         MA|\n",
      "|3893618|          MA|3087676|         MA|\n",
      "|4249365|          IA|3088262|         IA|\n",
      "|5247786|          IA|3088262|         IA|\n",
      "|5035582|          PA|3089008|         PA|\n",
      "|3884773|          NJ|3089888|         NJ|\n",
      "|3935741|          TX|3090232|         TX|\n",
      "|4828608|          NY|3093475|         NY|\n",
      "|5173632|          NH|3094640|         NH|\n",
      "|4650499|          OK|3097519|         OK|\n",
      "|4553985|          OK|3097519|         OK|\n",
      "|4684473|          NJ|3102098|         NJ|\n",
      "|5956831|          CA|3102333|         CA|\n",
      "+-------+------------+-------+-----------+\n",
      "only showing top 20 rows\n",
      "\n"
     ]
    }
   ],
   "source": [
    "# Since we now have the needed dataframe, we need to scrub the data to remove all null values and filter the data based on matching states.\n",
    "\n",
    "tempStep = tempStep.filter(col(\"CITING_STATE\").isNotNull() & col(\"CITED_STATE\").isNotNull())\n",
    "tempStep = tempStep.filter(col(\"CITING_STATE\") == col(\"CITED_STATE\"))\n",
    "\n",
    "tempStep.show()"
   ]
  },
  {
   "cell_type": "code",
   "execution_count": 11,
   "metadata": {},
   "outputs": [
    {
     "name": "stdout",
     "output_type": "stream",
     "text": [
      "+-------+-----+\n",
      "| CITING|count|\n",
      "+-------+-----+\n",
      "|5300411|    7|\n",
      "|3956677|    1|\n",
      "|4171110|    4|\n",
      "|4031936|    2|\n",
      "|3894399|    3|\n",
      "|4761449|    1|\n",
      "|4369612|    3|\n",
      "|4052003|    4|\n",
      "|4151539|    2|\n",
      "|4414386|    1|\n",
      "|4868906|    2|\n",
      "|4339036|    2|\n",
      "|4668726|   13|\n",
      "|5279306|    7|\n",
      "|4608206|    5|\n",
      "|4673168|    2|\n",
      "|4923281|    8|\n",
      "|5912450|   15|\n",
      "|4559622|    7|\n",
      "|4841690|    4|\n",
      "+-------+-----+\n",
      "only showing top 20 rows\n",
      "\n"
     ]
    }
   ],
   "source": [
    "# We now have our scrubed and filtered data, we proceed to group the data on Citing patent number and count the number of same-state citations.\n",
    "\n",
    "Citing_Count = tempStep.groupby(\"CITING\").count()\n",
    "Citing_Count.show()"
   ]
  },
  {
   "cell_type": "code",
   "execution_count": 12,
   "metadata": {},
   "outputs": [
    {
     "name": "stdout",
     "output_type": "stream",
     "text": [
      "+-------+-----+-----+-------+-------+-------+--------+-------+------+------+---+------+-----+--------+--------+-------+--------+--------+--------+--------+--------+--------+--------+-------+-----+\n",
      "| PATENT|GYEAR|GDATE|APPYEAR|COUNTRY|POSTATE|ASSIGNEE|ASSCODE|CLAIMS|NCLASS|CAT|SUBCAT|CMADE|CRECEIVE|RATIOCIT|GENERAL|ORIGINAL|FWDAPLAG|BCKGTLAG|SELFCTUB|SELFCTLB|SECDUPBD|SECDLWBD| CITING|count|\n",
      "+-------+-----+-----+-------+-------+-------+--------+-------+------+------+---+------+-----+--------+--------+-------+--------+--------+--------+--------+--------+--------+--------+-------+-----+\n",
      "|5959466| 1999|14515|   1997|     US|     CA|    5310|      2|  null|   326|  4|    46|  159|       0|     1.0|   null|  0.6186|    null|  4.8868|  0.0455|   0.044|    null|    null|5959466|  125|\n",
      "|5983822| 1999|14564|   1998|     US|     TX|  569900|      2|  null|   114|  5|    55|  200|       0|   0.995|   null|  0.7201|    null|   12.45|     0.0|     0.0|    null|    null|5983822|  103|\n",
      "|6008204| 1999|14606|   1998|     US|     CA|  749584|      2|  null|   514|  3|    31|  121|       0|     1.0|   null|  0.7415|    null|     5.0|  0.0085|  0.0083|    null|    null|6008204|  100|\n",
      "|5952345| 1999|14501|   1997|     US|     CA|  749584|      2|  null|   514|  3|    31|  118|       0|     1.0|   null|  0.7442|    null|  5.1102|     0.0|     0.0|    null|    null|5952345|   98|\n",
      "|5998655| 1999|14585|   1998|     US|     CA|    null|      1|  null|   560|  1|    14|  114|       0|     1.0|   null|  0.7387|    null|  5.1667|    null|    null|    null|    null|5998655|   96|\n",
      "|5958954| 1999|14515|   1997|     US|     CA|  749584|      2|  null|   514|  3|    31|  116|       0|     1.0|   null|  0.7397|    null|   5.181|     0.0|     0.0|    null|    null|5958954|   96|\n",
      "|5936426| 1999|14466|   1997|     US|     CA|    5310|      2|  null|   326|  4|    46|  178|       0|     1.0|   null|    0.58|    null| 11.2303|  0.0765|   0.073|    null|    null|5936426|   94|\n",
      "|5925042| 1999|14445|   1997|     US|     CA|  733846|      2|  null|   606|  3|    32|  242|       0|     1.0|   null|  0.7382|    null|  8.3471|     0.0|     0.0|    null|    null|5925042|   90|\n",
      "|5951547| 1999|14501|   1997|     US|     CA|  733846|      2|  null|   606|  3|    32|  242|       0|     1.0|   null|  0.7382|    null|  8.3471|     0.0|     0.0|    null|    null|5951547|   90|\n",
      "|5913855| 1999|14417|   1997|     US|     CA|  733846|      2|  null|   606|  3|    32|  242|       0|     1.0|   null|  0.7403|    null|  8.3595|     0.0|     0.0|    null|    null|5913855|   90|\n",
      "|5978329| 1999|14550|   1995|     US|     CA|  148925|      2|  null|   369|  2|    24|  145|       0|     1.0|   null|  0.5449|    null| 12.9241|  0.4196|  0.4138|    null|    null|5978329|   90|\n",
      "|5980517| 1999|14557|   1998|     US|     CA|  733846|      2|  null|   606|  3|    32|  241|       0|     1.0|   null|  0.7394|    null|  8.3776|     0.0|     0.0|    null|    null|5980517|   90|\n",
      "|5739256| 1998|13983|   1995|     US|     CA|   70060|      2|    15|   528|  1|    15|  453|       0|     1.0|   null|  0.8232|    null| 15.1104|  0.1124|  0.1082|    null|    null|5739256|   90|\n",
      "|5978331| 1999|14550|   1997|     US|     CA|  148925|      2|  null|   369|  2|    24|  148|       0|     1.0|   null|  0.5278|    null| 12.9459|  0.4014|  0.3986|    null|    null|5978331|   89|\n",
      "|5917082| 1999|14424|   1997|     US|     CA|  749584|      2|  null|   560|  1|    14|  107|       0|     1.0|   null|  0.7206|    null|  5.4393|     0.0|     0.0|    null|    null|5917082|   89|\n",
      "|5928229| 1999|14452|   1997|     US|     CA|  733846|      2|  null|   606|  3|    32|  240|       0|     1.0|   null|  0.7407|    null|  8.4083|     0.0|     0.0|    null|    null|5928229|   89|\n",
      "|5689485| 1997|13836|   1996|     US|     CA|  148925|      2|    30|   369|  2|    24|  138|       0|     1.0|   null|  0.5556|    null| 11.2174|  0.4307|  0.4275|    null|    null|5689485|   89|\n",
      "|5618907| 1997|13612|   1995|     US|     CA|   70060|      2|     6|   528|  1|    15|  453|       0|     1.0|   null|  0.8248|    null| 14.1369|  0.1103|   0.106|    null|    null|5618907|   89|\n",
      "|5602226| 1997|13556|   1995|     US|     CA|   70060|      2|    21|   528|  1|    15|  450|       0|     1.0|   null|  0.8273|    null| 14.1244|  0.1088|  0.1044|    null|    null|5602226|   88|\n",
      "|5847160| 1998|14221|   1997|     US|     CA|   19170|      2|    12|   549|  1|    14|  106|       0|     1.0|   null|  0.7246|    null|  4.4811|   0.835|  0.8113|    null|    null|5847160|   87|\n",
      "+-------+-----+-----+-------+-------+-------+--------+-------+------+------+---+------+-----+--------+--------+-------+--------+--------+--------+--------+--------+--------+--------+-------+-----+\n",
      "only showing top 20 rows\n",
      "\n"
     ]
    }
   ],
   "source": [
    "# Finally, we left-join Citing patents and Citing_Count on Patent in the original dataframe, \n",
    "# replace Nan/null values with 0 for clarity of 0 count, \n",
    "# and order the final output in descending order by number of same-state citations.\n",
    "\n",
    "finalStep = patents.join(Citing_Count, patents[\"PATENT\"] == Citing_Count[\"CITING\"], how = \"left\").cache()\n",
    "finalStep.orderBy(col(\"count\"), ascending = False).fillna(0, [\"count\"]).show()"
   ]
  }
 ],
 "metadata": {
  "kernelspec": {
   "display_name": "Python 3 (ipykernel)",
   "language": "python",
   "name": "python3"
  },
  "language_info": {
   "codemirror_mode": {
    "name": "ipython",
    "version": 3
   },
   "file_extension": ".py",
   "mimetype": "text/x-python",
   "name": "python",
   "nbconvert_exporter": "python",
   "pygments_lexer": "ipython3",
   "version": "3.10.5"
  }
 },
 "nbformat": 4,
 "nbformat_minor": 4
}
