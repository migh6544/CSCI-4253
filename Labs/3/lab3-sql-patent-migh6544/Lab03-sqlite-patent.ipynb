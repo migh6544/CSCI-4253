{
 "cells": [
  {
   "cell_type": "markdown",
   "id": "bed2bbc5-9d29-4c0b-812e-9fcbe775a582",
   "metadata": {},
   "source": [
    "# CSCI 4253 / 5253 - Lab #3 - Patent Problem with SQL - SOLUTION\n",
    "<div>\n",
    " <h2> CSCI 4283 / 5253 \n",
    "  <IMG SRC=\"https://www.colorado.edu/cs/profiles/express/themes/cuspirit/logo.png\" WIDTH=50 ALIGN=\"right\"/> </h2>\n",
    "</div>"
   ]
  },
  {
   "cell_type": "markdown",
   "id": "43ac5403-4aa4-47e2-b7a9-4d6acfb24e54",
   "metadata": {},
   "source": [
    "In this assignment, we're going to solve a problem for which you'll also see the solution in Hadoop and then implement a PySpark solution. We have two databases\n",
    "* One contains information about patents\n",
    "* One contains information about patent citations (one patent citing the work of another)\n",
    "The problem we're going to solve is augmenting the original patent data to include the number of *co-state citations*. In other words, if patent X was issued to someone in Colorado and patent Y was also issued to someone in Colorado and X cites Y, then this is a co-state citation.\n",
    "\n",
    "The easiest way to solve this is to build an intermediary product from the patent citations table. That table contains `CITING` and `CITED` columns; you would augment it by adding `CITING_STATE` and `CITED_STATE`. Then, it becomes fairly simple to filter out all the cases where those states don't match. You can then use an sql `GROUP BY` to `COUNT(*)` all the co-state citations for a given patent and then join that with the original patents table resulting in an augmented table.\n",
    "\n",
    "The final results for the first 13 words, sorted in descending order by co-state citations looks like the following\n",
    "![this final output](final-output.png)\n",
    "\n",
    "The challenge is going to be that I want you do to this *a single SQL query*. We're assuming you've learned some SQL in a previous life and if not, [now is a great time to learn](https://www.sqlitetutorial.net/). Even if you've done basic SQL, you'll probably need to review [using `select` in a where-clause or using multiple joins](https://dba.stackexchange.com/questions/33553/using-select-in-the-where-clause-of-another-select).\n"
   ]
  },
  {
   "cell_type": "markdown",
   "id": "75ae9d56-4dc2-4e1a-8982-dd522a24b0ad",
   "metadata": {},
   "source": [
    "## Logistics"
   ]
  },
  {
   "cell_type": "markdown",
   "id": "112c64a4-99c2-4621-954e-2031fa008f6d",
   "metadata": {},
   "source": [
    "We're going to be using the SQLite3 system which runs entirely from a file (no server needed). The `Makefile` contains commands to download the raw data as ZIP files.\n",
    "\n",
    "We can run shell commands in our notebook using [builtin \"magic\" commands](https://ipython.readthedocs.io/en/stable/interactive/magics.html). You need to run this at least once prior to starting the lab to make certain you have the files and have created the `patents.sq3` database file. It will take a few minutes to complete & you should see that the `patents.sq3` file is about 645MBytes in size."
   ]
  },
  {
   "cell_type": "code",
   "execution_count": 1,
   "id": "152fb4fe-f124-417c-aded-5e0c2bb92126",
   "metadata": {},
   "outputs": [
    {
     "name": "stdout",
     "output_type": "stream",
     "text": [
      "make: Nothing to be done for 'all'.\n",
      "-rw-r--r-- 1 jovyan users 647274496 Sep 13 22:46 patents.sq3\n"
     ]
    }
   ],
   "source": [
    "%%bash\n",
    "make\n",
    "rm patents.sq3\n",
    "zcat < acite75_99.zip | sqlite3 patents.sq3 \".mode csv\" \".import /dev/stdin citations\"\n",
    "zcat < apat63_99.zip | sqlite3 patents.sq3 \".mode csv\" \".import /dev/stdin patents\"\n",
    "ls -l patents.sq3"
   ]
  },
  {
   "cell_type": "markdown",
   "id": "9fb40c5d-e780-4fee-869a-20ce50adb18e",
   "metadata": {},
   "source": [
    "We'll use another \"magic\" to run SQL queries in notebook cells. The following will load the SQL extension and connect to the `patents.sq3` file."
   ]
  },
  {
   "cell_type": "code",
   "execution_count": 2,
   "id": "fa55784a-c01e-403b-97b9-be8cbec4c058",
   "metadata": {},
   "outputs": [
    {
     "data": {
      "text/plain": [
       "'Connected: @patents.sq3'"
      ]
     },
     "execution_count": 2,
     "metadata": {},
     "output_type": "execute_result"
    }
   ],
   "source": [
    "%load_ext sql\n",
    "%sql sqlite:///patents.sq3"
   ]
  },
  {
   "cell_type": "markdown",
   "id": "b6ae7776-adf1-496f-b654-c3e7edce1c0d",
   "metadata": {},
   "source": [
    "Following this, we can run individual SQL queries and see the result by putting `%%sql` at the front of a cell. If you don't have that, you'll be running Python code.\n",
    "\n",
    "So, for example, we can examine our two raw database tables."
   ]
  },
  {
   "cell_type": "code",
   "execution_count": 3,
   "id": "4ba2bff0-bda6-4bf1-a9db-fa989cd28d43",
   "metadata": {},
   "outputs": [
    {
     "name": "stdout",
     "output_type": "stream",
     "text": [
      " * sqlite:///patents.sq3\n",
      "Done.\n"
     ]
    },
    {
     "data": {
      "text/html": [
       "<table>\n",
       "    <thead>\n",
       "        <tr>\n",
       "            <th>PATENT</th>\n",
       "            <th>GYEAR</th>\n",
       "            <th>GDATE</th>\n",
       "            <th>APPYEAR</th>\n",
       "            <th>COUNTRY</th>\n",
       "            <th>POSTATE</th>\n",
       "            <th>ASSIGNEE</th>\n",
       "            <th>ASSCODE</th>\n",
       "            <th>CLAIMS</th>\n",
       "            <th>NCLASS</th>\n",
       "            <th>CAT</th>\n",
       "            <th>SUBCAT</th>\n",
       "            <th>CMADE</th>\n",
       "            <th>CRECEIVE</th>\n",
       "            <th>RATIOCIT</th>\n",
       "            <th>GENERAL</th>\n",
       "            <th>ORIGINAL</th>\n",
       "            <th>FWDAPLAG</th>\n",
       "            <th>BCKGTLAG</th>\n",
       "            <th>SELFCTUB</th>\n",
       "            <th>SELFCTLB</th>\n",
       "            <th>SECDUPBD</th>\n",
       "            <th>SECDLWBD</th>\n",
       "        </tr>\n",
       "    </thead>\n",
       "    <tbody>\n",
       "        <tr>\n",
       "            <td>3070801</td>\n",
       "            <td>1963</td>\n",
       "            <td>1096</td>\n",
       "            <td></td>\n",
       "            <td>BE</td>\n",
       "            <td></td>\n",
       "            <td></td>\n",
       "            <td>1</td>\n",
       "            <td></td>\n",
       "            <td>269</td>\n",
       "            <td>6</td>\n",
       "            <td>69</td>\n",
       "            <td></td>\n",
       "            <td>1</td>\n",
       "            <td></td>\n",
       "            <td>0</td>\n",
       "            <td></td>\n",
       "            <td></td>\n",
       "            <td></td>\n",
       "            <td></td>\n",
       "            <td></td>\n",
       "            <td></td>\n",
       "            <td></td>\n",
       "        </tr>\n",
       "        <tr>\n",
       "            <td>3070802</td>\n",
       "            <td>1963</td>\n",
       "            <td>1096</td>\n",
       "            <td></td>\n",
       "            <td>US</td>\n",
       "            <td>TX</td>\n",
       "            <td></td>\n",
       "            <td>1</td>\n",
       "            <td></td>\n",
       "            <td>2</td>\n",
       "            <td>6</td>\n",
       "            <td>63</td>\n",
       "            <td></td>\n",
       "            <td>0</td>\n",
       "            <td></td>\n",
       "            <td></td>\n",
       "            <td></td>\n",
       "            <td></td>\n",
       "            <td></td>\n",
       "            <td></td>\n",
       "            <td></td>\n",
       "            <td></td>\n",
       "            <td></td>\n",
       "        </tr>\n",
       "        <tr>\n",
       "            <td>3070803</td>\n",
       "            <td>1963</td>\n",
       "            <td>1096</td>\n",
       "            <td></td>\n",
       "            <td>US</td>\n",
       "            <td>IL</td>\n",
       "            <td></td>\n",
       "            <td>1</td>\n",
       "            <td></td>\n",
       "            <td>2</td>\n",
       "            <td>6</td>\n",
       "            <td>63</td>\n",
       "            <td></td>\n",
       "            <td>9</td>\n",
       "            <td></td>\n",
       "            <td>0.3704</td>\n",
       "            <td></td>\n",
       "            <td></td>\n",
       "            <td></td>\n",
       "            <td></td>\n",
       "            <td></td>\n",
       "            <td></td>\n",
       "            <td></td>\n",
       "        </tr>\n",
       "        <tr>\n",
       "            <td>3070804</td>\n",
       "            <td>1963</td>\n",
       "            <td>1096</td>\n",
       "            <td></td>\n",
       "            <td>US</td>\n",
       "            <td>OH</td>\n",
       "            <td></td>\n",
       "            <td>1</td>\n",
       "            <td></td>\n",
       "            <td>2</td>\n",
       "            <td>6</td>\n",
       "            <td>63</td>\n",
       "            <td></td>\n",
       "            <td>3</td>\n",
       "            <td></td>\n",
       "            <td>0.6667</td>\n",
       "            <td></td>\n",
       "            <td></td>\n",
       "            <td></td>\n",
       "            <td></td>\n",
       "            <td></td>\n",
       "            <td></td>\n",
       "            <td></td>\n",
       "        </tr>\n",
       "        <tr>\n",
       "            <td>3070805</td>\n",
       "            <td>1963</td>\n",
       "            <td>1096</td>\n",
       "            <td></td>\n",
       "            <td>US</td>\n",
       "            <td>CA</td>\n",
       "            <td></td>\n",
       "            <td>1</td>\n",
       "            <td></td>\n",
       "            <td>2</td>\n",
       "            <td>6</td>\n",
       "            <td>63</td>\n",
       "            <td></td>\n",
       "            <td>1</td>\n",
       "            <td></td>\n",
       "            <td>0</td>\n",
       "            <td></td>\n",
       "            <td></td>\n",
       "            <td></td>\n",
       "            <td></td>\n",
       "            <td></td>\n",
       "            <td></td>\n",
       "            <td></td>\n",
       "        </tr>\n",
       "    </tbody>\n",
       "</table>"
      ],
      "text/plain": [
       "[('3070801', '1963', '1096', '', 'BE', '', '', '1', '', '269', '6', '69', '', '1', '', '0', '', '', '', '', '', '', ''),\n",
       " ('3070802', '1963', '1096', '', 'US', 'TX', '', '1', '', '2', '6', '63', '', '0', '', '', '', '', '', '', '', '', ''),\n",
       " ('3070803', '1963', '1096', '', 'US', 'IL', '', '1', '', '2', '6', '63', '', '9', '', '0.3704', '', '', '', '', '', '', ''),\n",
       " ('3070804', '1963', '1096', '', 'US', 'OH', '', '1', '', '2', '6', '63', '', '3', '', '0.6667', '', '', '', '', '', '', ''),\n",
       " ('3070805', '1963', '1096', '', 'US', 'CA', '', '1', '', '2', '6', '63', '', '1', '', '0', '', '', '', '', '', '', '')]"
      ]
     },
     "execution_count": 3,
     "metadata": {},
     "output_type": "execute_result"
    }
   ],
   "source": [
    "%%sql\n",
    "select * from patents limit 5;"
   ]
  },
  {
   "cell_type": "code",
   "execution_count": 4,
   "id": "c00b1f9c-b477-44a5-9967-0d54435146a7",
   "metadata": {},
   "outputs": [
    {
     "name": "stdout",
     "output_type": "stream",
     "text": [
      " * sqlite:///patents.sq3\n",
      "Done.\n"
     ]
    },
    {
     "data": {
      "text/html": [
       "<table>\n",
       "    <thead>\n",
       "        <tr>\n",
       "            <th>CITING</th>\n",
       "            <th>CITED</th>\n",
       "        </tr>\n",
       "    </thead>\n",
       "    <tbody>\n",
       "        <tr>\n",
       "            <td>3858241</td>\n",
       "            <td>956203</td>\n",
       "        </tr>\n",
       "        <tr>\n",
       "            <td>3858241</td>\n",
       "            <td>1324234</td>\n",
       "        </tr>\n",
       "        <tr>\n",
       "            <td>3858241</td>\n",
       "            <td>3398406</td>\n",
       "        </tr>\n",
       "        <tr>\n",
       "            <td>3858241</td>\n",
       "            <td>3557384</td>\n",
       "        </tr>\n",
       "        <tr>\n",
       "            <td>3858241</td>\n",
       "            <td>3634889</td>\n",
       "        </tr>\n",
       "    </tbody>\n",
       "</table>"
      ],
      "text/plain": [
       "[('3858241', '956203'),\n",
       " ('3858241', '1324234'),\n",
       " ('3858241', '3398406'),\n",
       " ('3858241', '3557384'),\n",
       " ('3858241', '3634889')]"
      ]
     },
     "execution_count": 4,
     "metadata": {},
     "output_type": "execute_result"
    }
   ],
   "source": [
    "%%sql\n",
    "select * from citations limit 5;"
   ]
  },
  {
   "cell_type": "markdown",
   "id": "e30dda7a-536f-48e9-bc7e-ed67a8c35c4e",
   "metadata": {},
   "source": [
    "If you want to create indexes over various fields, go ahead. It shouldn't affect the correctness of your results but may affect the performance."
   ]
  },
  {
   "cell_type": "markdown",
   "id": "c9fe9c78-3114-4dc8-a901-c8fd4c6279a2",
   "metadata": {},
   "source": [
    "## Steps to the full solution\n",
    "\n",
    "In order to determine when a *cited* patent and a *citing* patent are from the same state,\n",
    "we're going to need to produce a series of tables that combine information from the citations and the patents tables.\n",
    "\n",
    "We can use a simple left-outer join (or just **JOIN**) to get the information for one or the other column in the citations table. For example, we can determine the state for *cited* patents using this join:"
   ]
  },
  {
   "cell_type": "code",
   "execution_count": 5,
   "id": "bafd64ef-c332-4095-88d8-75e79a020256",
   "metadata": {},
   "outputs": [
    {
     "name": "stdout",
     "output_type": "stream",
     "text": [
      " * sqlite:///patents.sq3\n",
      "Done.\n"
     ]
    },
    {
     "data": {
      "text/html": [
       "<table>\n",
       "    <thead>\n",
       "        <tr>\n",
       "            <th>CITED</th>\n",
       "            <th>CITED_POSTATE</th>\n",
       "            <th>CITING</th>\n",
       "        </tr>\n",
       "    </thead>\n",
       "    <tbody>\n",
       "        <tr>\n",
       "            <td>3398406</td>\n",
       "            <td>FL</td>\n",
       "            <td>3858241</td>\n",
       "        </tr>\n",
       "        <tr>\n",
       "            <td>3557384</td>\n",
       "            <td>MA</td>\n",
       "            <td>3858241</td>\n",
       "        </tr>\n",
       "        <tr>\n",
       "            <td>3634889</td>\n",
       "            <td>OH</td>\n",
       "            <td>3858241</td>\n",
       "        </tr>\n",
       "        <tr>\n",
       "            <td>3319261</td>\n",
       "            <td>OH</td>\n",
       "            <td>3858242</td>\n",
       "        </tr>\n",
       "        <tr>\n",
       "            <td>3668705</td>\n",
       "            <td>WI</td>\n",
       "            <td>3858242</td>\n",
       "        </tr>\n",
       "    </tbody>\n",
       "</table>"
      ],
      "text/plain": [
       "[('3398406', 'FL', '3858241'),\n",
       " ('3557384', 'MA', '3858241'),\n",
       " ('3634889', 'OH', '3858241'),\n",
       " ('3319261', 'OH', '3858242'),\n",
       " ('3668705', 'WI', '3858242')]"
      ]
     },
     "execution_count": 5,
     "metadata": {},
     "output_type": "execute_result"
    }
   ],
   "source": [
    "%%sql\n",
    "SELECT CITED, patents.POSTATE as CITED_POSTATE, CITING\n",
    "FROM citations JOIN patents\n",
    "WHERE CITED == PATENT\n",
    "limit 5;"
   ]
  },
  {
   "cell_type": "code",
   "execution_count": 6,
   "id": "5369e7af-d0e3-43e9-add0-83db6bf6ae6f",
   "metadata": {},
   "outputs": [
    {
     "name": "stdout",
     "output_type": "stream",
     "text": [
      " * sqlite:///patents.sq3\n",
      "Done.\n"
     ]
    },
    {
     "data": {
      "text/html": [
       "<table>\n",
       "    <thead>\n",
       "        <tr>\n",
       "            <th>COUNT(*)</th>\n",
       "            <th>CITED</th>\n",
       "            <th>CITED_POSTATE</th>\n",
       "            <th>CITING</th>\n",
       "        </tr>\n",
       "    </thead>\n",
       "    <tbody>\n",
       "        <tr>\n",
       "            <td>1</td>\n",
       "            <td>3070801</td>\n",
       "            <td></td>\n",
       "            <td>4093112</td>\n",
       "        </tr>\n",
       "        <tr>\n",
       "            <td>9</td>\n",
       "            <td>3070803</td>\n",
       "            <td>IL</td>\n",
       "            <td>4133055</td>\n",
       "        </tr>\n",
       "        <tr>\n",
       "            <td>3</td>\n",
       "            <td>3070804</td>\n",
       "            <td>OH</td>\n",
       "            <td>3972325</td>\n",
       "        </tr>\n",
       "        <tr>\n",
       "            <td>1</td>\n",
       "            <td>3070805</td>\n",
       "            <td>CA</td>\n",
       "            <td>4400830</td>\n",
       "        </tr>\n",
       "        <tr>\n",
       "            <td>3</td>\n",
       "            <td>3070807</td>\n",
       "            <td>OH</td>\n",
       "            <td>4058119</td>\n",
       "        </tr>\n",
       "    </tbody>\n",
       "</table>"
      ],
      "text/plain": [
       "[(1, '3070801', '', '4093112'),\n",
       " (9, '3070803', 'IL', '4133055'),\n",
       " (3, '3070804', 'OH', '3972325'),\n",
       " (1, '3070805', 'CA', '4400830'),\n",
       " (3, '3070807', 'OH', '4058119')]"
      ]
     },
     "execution_count": 6,
     "metadata": {},
     "output_type": "execute_result"
    }
   ],
   "source": [
    "%%sql\n",
    "SELECT COUNT(*), CITED, patents.POSTATE as CITED_POSTATE, CITING\n",
    "FROM citations JOIN patents\n",
    "WHERE CITED == PATENT\n",
    "GROUP BY PATENT\n",
    "limit 5;"
   ]
  },
  {
   "cell_type": "markdown",
   "id": "b01c1914-ea28-491c-b677-0bd0b8e4b0b2",
   "metadata": {},
   "source": [
    "Then, you'll need to do the same for the `CITING` column as well. As mentioned earlier, you may want to review [using `select` in a where-clause or using multiple joins](https://dba.stackexchange.com/questions/33553/using-select-in-the-where-clause-of-another-select)."
   ]
  },
  {
   "cell_type": "code",
   "execution_count": 7,
   "id": "065de052-a862-4035-a908-faf5bd8c5aea",
   "metadata": {},
   "outputs": [
    {
     "name": "stdout",
     "output_type": "stream",
     "text": [
      " * sqlite:///patents.sq3\n",
      "Done.\n"
     ]
    },
    {
     "data": {
      "text/html": [
       "<table>\n",
       "    <thead>\n",
       "        <tr>\n",
       "            <th>CITING</th>\n",
       "            <th>CITING_POSTATE</th>\n",
       "            <th>CITED</th>\n",
       "        </tr>\n",
       "    </thead>\n",
       "    <tbody>\n",
       "        <tr>\n",
       "            <td>3858241</td>\n",
       "            <td>MA</td>\n",
       "            <td>956203</td>\n",
       "        </tr>\n",
       "        <tr>\n",
       "            <td>3858241</td>\n",
       "            <td>MA</td>\n",
       "            <td>1324234</td>\n",
       "        </tr>\n",
       "        <tr>\n",
       "            <td>3858241</td>\n",
       "            <td>MA</td>\n",
       "            <td>3398406</td>\n",
       "        </tr>\n",
       "        <tr>\n",
       "            <td>3858241</td>\n",
       "            <td>MA</td>\n",
       "            <td>3557384</td>\n",
       "        </tr>\n",
       "        <tr>\n",
       "            <td>3858241</td>\n",
       "            <td>MA</td>\n",
       "            <td>3634889</td>\n",
       "        </tr>\n",
       "    </tbody>\n",
       "</table>"
      ],
      "text/plain": [
       "[('3858241', 'MA', '956203'),\n",
       " ('3858241', 'MA', '1324234'),\n",
       " ('3858241', 'MA', '3398406'),\n",
       " ('3858241', 'MA', '3557384'),\n",
       " ('3858241', 'MA', '3634889')]"
      ]
     },
     "execution_count": 7,
     "metadata": {},
     "output_type": "execute_result"
    }
   ],
   "source": [
    "%%sql\n",
    "SELECT CITING, patents.POSTATE as CITING_POSTATE, CITED\n",
    "FROM citations JOIN patents\n",
    "WHERE CITING == PATENT\n",
    "limit 5;"
   ]
  },
  {
   "cell_type": "code",
   "execution_count": 8,
   "id": "0effdf08-3bd4-4eb8-b623-2f7b4ead7706",
   "metadata": {},
   "outputs": [
    {
     "name": "stdout",
     "output_type": "stream",
     "text": [
      " * sqlite:///patents.sq3\n",
      "Done.\n"
     ]
    },
    {
     "data": {
      "text/html": [
       "<table>\n",
       "    <thead>\n",
       "        <tr>\n",
       "            <th>COUNT(*)</th>\n",
       "            <th>CITING</th>\n",
       "            <th>CITING_POSTATE</th>\n",
       "            <th>CITED</th>\n",
       "        </tr>\n",
       "    </thead>\n",
       "    <tbody>\n",
       "        <tr>\n",
       "            <td>5</td>\n",
       "            <td>3858241</td>\n",
       "            <td>MA</td>\n",
       "            <td>956203</td>\n",
       "        </tr>\n",
       "        <tr>\n",
       "            <td>4</td>\n",
       "            <td>3858242</td>\n",
       "            <td>MI</td>\n",
       "            <td>1515701</td>\n",
       "        </tr>\n",
       "        <tr>\n",
       "            <td>7</td>\n",
       "            <td>3858243</td>\n",
       "            <td></td>\n",
       "            <td>2949611</td>\n",
       "        </tr>\n",
       "        <tr>\n",
       "            <td>6</td>\n",
       "            <td>3858244</td>\n",
       "            <td>CT</td>\n",
       "            <td>14040</td>\n",
       "        </tr>\n",
       "        <tr>\n",
       "            <td>7</td>\n",
       "            <td>3858245</td>\n",
       "            <td>NY</td>\n",
       "            <td>2072303</td>\n",
       "        </tr>\n",
       "    </tbody>\n",
       "</table>"
      ],
      "text/plain": [
       "[(5, '3858241', 'MA', '956203'),\n",
       " (4, '3858242', 'MI', '1515701'),\n",
       " (7, '3858243', '', '2949611'),\n",
       " (6, '3858244', 'CT', '14040'),\n",
       " (7, '3858245', 'NY', '2072303')]"
      ]
     },
     "execution_count": 8,
     "metadata": {},
     "output_type": "execute_result"
    }
   ],
   "source": [
    "%%sql\n",
    "SELECT COUNT(*), CITING, patents.POSTATE as CITING_POSTATE, CITED\n",
    "FROM citations JOIN patents\n",
    "WHERE CITING == PATENT\n",
    "GROUP BY PATENT\n",
    "limit 5;"
   ]
  },
  {
   "cell_type": "markdown",
   "id": "11b94588-6521-4d8d-8e97-6912ce72a57b",
   "metadata": {},
   "source": [
    "## Your solution\n",
    "\n",
    "Eneter your solution as a single SQL query below:"
   ]
  },
  {
   "cell_type": "code",
   "execution_count": 16,
   "id": "b9789aef-6089-412e-9895-6bba783bde6a",
   "metadata": {},
   "outputs": [
    {
     "name": "stdout",
     "output_type": "stream",
     "text": [
      " * sqlite:///patents.sq3\n",
      "Done.\n"
     ]
    },
    {
     "data": {
      "text/html": [
       "<table>\n",
       "    <thead>\n",
       "        <tr>\n",
       "            <th>PATENT</th>\n",
       "            <th>GYEAR</th>\n",
       "            <th>GDATE</th>\n",
       "            <th>APPYEAR</th>\n",
       "            <th>COUNTRY</th>\n",
       "            <th>POSTATE</th>\n",
       "            <th>ASSIGNEE</th>\n",
       "            <th>ASSCODE</th>\n",
       "            <th>CLAIMS</th>\n",
       "            <th>NCLASS</th>\n",
       "            <th>CAT</th>\n",
       "            <th>SUBCAT</th>\n",
       "            <th>CMADE</th>\n",
       "            <th>CRECEIVE</th>\n",
       "            <th>RATIOCIT</th>\n",
       "            <th>GENERAL</th>\n",
       "            <th>ORIGINAL</th>\n",
       "            <th>FWDAPLAG</th>\n",
       "            <th>BCKGTLAG</th>\n",
       "            <th>SELFCTUB</th>\n",
       "            <th>SELFCTLB</th>\n",
       "            <th>SECDUPBD</th>\n",
       "            <th>SECDLWBD</th>\n",
       "            <th>CITED</th>\n",
       "            <th>CITED_STATE</th>\n",
       "            <th>CITING</th>\n",
       "            <th>CITING_STATE</th>\n",
       "            <th>CO_CITED_COUNT</th>\n",
       "        </tr>\n",
       "    </thead>\n",
       "    <tbody>\n",
       "        <tr>\n",
       "            <td>4195352</td>\n",
       "            <td>1980</td>\n",
       "            <td>7389</td>\n",
       "            <td>1977</td>\n",
       "            <td>US</td>\n",
       "            <td>CA</td>\n",
       "            <td>635240</td>\n",
       "            <td>2</td>\n",
       "            <td>4</td>\n",
       "            <td>708</td>\n",
       "            <td>2</td>\n",
       "            <td>22</td>\n",
       "            <td>11</td>\n",
       "            <td>21</td>\n",
       "            <td>1</td>\n",
       "            <td>0.7029</td>\n",
       "            <td>0.6281</td>\n",
       "            <td>11.1905</td>\n",
       "            <td>3.9091</td>\n",
       "            <td>0</td>\n",
       "            <td>0</td>\n",
       "            <td>0</td>\n",
       "            <td>0</td>\n",
       "            <td>4195352</td>\n",
       "            <td>CA</td>\n",
       "            <td>5959466</td>\n",
       "            <td>CA</td>\n",
       "            <td>125</td>\n",
       "        </tr>\n",
       "        <tr>\n",
       "            <td>3572278</td>\n",
       "            <td>1971</td>\n",
       "            <td>4099</td>\n",
       "            <td>1968</td>\n",
       "            <td>US</td>\n",
       "            <td>TX</td>\n",
       "            <td>186585</td>\n",
       "            <td>2</td>\n",
       "            <td></td>\n",
       "            <td>114</td>\n",
       "            <td>5</td>\n",
       "            <td>55</td>\n",
       "            <td></td>\n",
       "            <td>7</td>\n",
       "            <td></td>\n",
       "            <td>0.449</td>\n",
       "            <td></td>\n",
       "            <td>18.8571</td>\n",
       "            <td></td>\n",
       "            <td></td>\n",
       "            <td></td>\n",
       "            <td>0</td>\n",
       "            <td>0</td>\n",
       "            <td>3572278</td>\n",
       "            <td>TX</td>\n",
       "            <td>5983822</td>\n",
       "            <td>TX</td>\n",
       "            <td>103</td>\n",
       "        </tr>\n",
       "        <tr>\n",
       "            <td>4739098</td>\n",
       "            <td>1988</td>\n",
       "            <td>10336</td>\n",
       "            <td>1986</td>\n",
       "            <td>US</td>\n",
       "            <td>CA</td>\n",
       "            <td>19170</td>\n",
       "            <td>2</td>\n",
       "            <td>15</td>\n",
       "            <td>560</td>\n",
       "            <td>1</td>\n",
       "            <td>14</td>\n",
       "            <td>1</td>\n",
       "            <td>102</td>\n",
       "            <td>1</td>\n",
       "            <td>0.7343</td>\n",
       "            <td>0</td>\n",
       "            <td>8.0784</td>\n",
       "            <td>3</td>\n",
       "            <td>0</td>\n",
       "            <td>0</td>\n",
       "            <td>0.93</td>\n",
       "            <td>0.9118</td>\n",
       "            <td>4739098</td>\n",
       "            <td>CA</td>\n",
       "            <td>6008204</td>\n",
       "            <td>CA</td>\n",
       "            <td>100</td>\n",
       "        </tr>\n",
       "        <tr>\n",
       "            <td>4739098</td>\n",
       "            <td>1988</td>\n",
       "            <td>10336</td>\n",
       "            <td>1986</td>\n",
       "            <td>US</td>\n",
       "            <td>CA</td>\n",
       "            <td>19170</td>\n",
       "            <td>2</td>\n",
       "            <td>15</td>\n",
       "            <td>560</td>\n",
       "            <td>1</td>\n",
       "            <td>14</td>\n",
       "            <td>1</td>\n",
       "            <td>102</td>\n",
       "            <td>1</td>\n",
       "            <td>0.7343</td>\n",
       "            <td>0</td>\n",
       "            <td>8.0784</td>\n",
       "            <td>3</td>\n",
       "            <td>0</td>\n",
       "            <td>0</td>\n",
       "            <td>0.93</td>\n",
       "            <td>0.9118</td>\n",
       "            <td>4739098</td>\n",
       "            <td>CA</td>\n",
       "            <td>5952345</td>\n",
       "            <td>CA</td>\n",
       "            <td>98</td>\n",
       "        </tr>\n",
       "        <tr>\n",
       "            <td>4739098</td>\n",
       "            <td>1988</td>\n",
       "            <td>10336</td>\n",
       "            <td>1986</td>\n",
       "            <td>US</td>\n",
       "            <td>CA</td>\n",
       "            <td>19170</td>\n",
       "            <td>2</td>\n",
       "            <td>15</td>\n",
       "            <td>560</td>\n",
       "            <td>1</td>\n",
       "            <td>14</td>\n",
       "            <td>1</td>\n",
       "            <td>102</td>\n",
       "            <td>1</td>\n",
       "            <td>0.7343</td>\n",
       "            <td>0</td>\n",
       "            <td>8.0784</td>\n",
       "            <td>3</td>\n",
       "            <td>0</td>\n",
       "            <td>0</td>\n",
       "            <td>0.93</td>\n",
       "            <td>0.9118</td>\n",
       "            <td>4739098</td>\n",
       "            <td>CA</td>\n",
       "            <td>5998655</td>\n",
       "            <td>CA</td>\n",
       "            <td>96</td>\n",
       "        </tr>\n",
       "    </tbody>\n",
       "</table>"
      ],
      "text/plain": [
       "[('4195352', '1980', '7389', '1977', 'US', 'CA', '635240', '2', '4', '708', '2', '22', '11', '21', '1', '0.7029', '0.6281', '11.1905', '3.9091', '0', '0', '0', '0', '4195352', 'CA', '5959466', 'CA', 125),\n",
       " ('3572278', '1971', '4099', '1968', 'US', 'TX', '186585', '2', '', '114', '5', '55', '', '7', '', '0.449', '', '18.8571', '', '', '', '0', '0', '3572278', 'TX', '5983822', 'TX', 103),\n",
       " ('4739098', '1988', '10336', '1986', 'US', 'CA', '19170', '2', '15', '560', '1', '14', '1', '102', '1', '0.7343', '0', '8.0784', '3', '0', '0', '0.93', '0.9118', '4739098', 'CA', '6008204', 'CA', 100),\n",
       " ('4739098', '1988', '10336', '1986', 'US', 'CA', '19170', '2', '15', '560', '1', '14', '1', '102', '1', '0.7343', '0', '8.0784', '3', '0', '0', '0.93', '0.9118', '4739098', 'CA', '5952345', 'CA', 98),\n",
       " ('4739098', '1988', '10336', '1986', 'US', 'CA', '19170', '2', '15', '560', '1', '14', '1', '102', '1', '0.7343', '0', '8.0784', '3', '0', '0', '0.93', '0.9118', '4739098', 'CA', '5998655', 'CA', 96)]"
      ]
     },
     "execution_count": 16,
     "metadata": {},
     "output_type": "execute_result"
    }
   ],
   "source": [
    "%%sql\n",
    "SELECT *, COUNT(CITED) as CO_CITED_COUNT\n",
    "FROM (SELECT Citings.*, patents.POSTATE as CITING_STATE\n",
    "      FROM (SELECT patents.*, CITED, patents.POSTATE as CITED_STATE, CITING\n",
    "            FROM citations as Citeds\n",
    "            JOIN patents\n",
    "            WHERE Citeds.CITED == patents.patent and patents.COUNTRY == 'US') as Citings\n",
    "      JOIN patents\n",
    "      WHERE Citings.CITING == patents.patent and patents.COUNTRY == 'US')\n",
    "WHERE CITED_STATE == CITING_STATE\n",
    "GROUP BY CITING\n",
    "ORDER BY CO_CITED_COUNT DESC\n",
    "LIMIT 5;"
   ]
  }
 ],
 "metadata": {
  "kernelspec": {
   "display_name": "Python 3 (ipykernel)",
   "language": "python",
   "name": "python3"
  },
  "language_info": {
   "codemirror_mode": {
    "name": "ipython",
    "version": 3
   },
   "file_extension": ".py",
   "mimetype": "text/x-python",
   "name": "python",
   "nbconvert_exporter": "python",
   "pygments_lexer": "ipython3",
   "version": "3.10.5"
  }
 },
 "nbformat": 4,
 "nbformat_minor": 5
}
